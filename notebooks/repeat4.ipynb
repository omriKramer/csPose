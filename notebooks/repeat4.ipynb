{
 "cells": [
  {
   "cell_type": "code",
   "execution_count": null,
   "metadata": {
    "collapsed": true
   },
   "outputs": [],
   "source": [
    "from fastai.vision import *\n",
    "\n",
    "import pose\n",
    "import models.cs_v2 as cs\n",
    "\n",
    "#%\n",
    "root = Path('../../LIP').resolve()"
   ]
  },
  {
   "cell_type": "code",
   "execution_count": null,
   "outputs": [],
   "source": [
    "class RecurrentInstructor(cs.BaseInstructor):\n",
    "    def __init__(self, repeats):\n",
    "        self.repeats = repeats\n",
    "        \n",
    "    def on_batch_begin(self, **kwargs):\n",
    "        self.i = 0\n",
    "    \n",
    "    def next_inst(self, last_bu):\n",
    "        self.i += 1\n",
    "        state = {'continue': self.i < self.repeats}\n",
    "        return None, state\n",
    "    \n",
    "class RecurrentLoss:\n",
    "    \n",
    "    def __init__(self, repeats):\n",
    "        self.r = repeats\n",
    "        \n",
    "    def __call__(self, outputs, targets):\n",
    "        targets = targets.repeat(1, self.r, 1)\n",
    "        return pose.pose_ce_loss(outputs[1], targets)\n",
    "    \n",
    "       \n",
    "pckh = partial(pose.Pckh, heatmap_func=lambda last_output: last_output[1][:, -16:])"
   ],
   "metadata": {
    "collapsed": false,
    "pycharm": {
     "name": "#%%\n"
    }
   }
  },
  {
   "cell_type": "code",
   "execution_count": null,
   "outputs": [],
   "source": [
    "data = pose.get_data(root, 128)\n",
    "data"
   ],
   "metadata": {
    "collapsed": false,
    "pycharm": {
     "name": "#%%\n"
    }
   }
  },
  {
   "cell_type": "code",
   "execution_count": null,
   "outputs": [],
   "source": [
    "r = 4\n",
    "instructor = RecurrentInstructor(r)\n",
    "learner = cs.cs_learner(data, models.resnet18, instructor, td_c=16, pretrained=False, embedding=None,\n",
    "                        loss_func=RecurrentLoss(r), callback_fns=pckh)"
   ],
   "metadata": {
    "collapsed": false,
    "pycharm": {
     "name": "#%%\n"
    }
   }
  },
  {
   "cell_type": "code",
   "execution_count": null,
   "outputs": [],
   "source": [
    "learner.lr_find()\n",
    "learner.recorder.plot(suggestion=True)"
   ],
   "metadata": {
    "collapsed": false,
    "pycharm": {
     "name": "#%%\n"
    }
   }
  },
  {
   "cell_type": "code",
   "execution_count": null,
   "outputs": [],
   "source": [
    "learner.fit_one_cycle(40, 1e-2)"
   ],
   "metadata": {
    "collapsed": false,
    "pycharm": {
     "name": "#%%\n"
    }
   }
  },
  {
   "cell_type": "code",
   "execution_count": null,
   "outputs": [],
   "source": [
    "learner.save(f'repeat{r}-128')\n"
   ],
   "metadata": {
    "collapsed": false,
    "pycharm": {
     "name": "#%%\n"
    }
   }
  }
 ],
 "metadata": {
  "kernelspec": {
   "display_name": "Python 3",
   "language": "python",
   "name": "python3"
  },
  "language_info": {
   "codemirror_mode": {
    "name": "ipython",
    "version": 2
   },
   "file_extension": ".py",
   "mimetype": "text/x-python",
   "name": "python",
   "nbconvert_exporter": "python",
   "pygments_lexer": "ipython2",
   "version": "2.7.6"
  },
  "pycharm": {
   "stem_cell": {
    "cell_type": "raw",
    "source": [],
    "metadata": {
     "collapsed": false
    }
   }
  }
 },
 "nbformat": 4,
 "nbformat_minor": 0
}